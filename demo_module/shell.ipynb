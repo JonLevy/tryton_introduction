{
 "cells": [
  {
   "cell_type": "code",
   "execution_count": 17,
   "metadata": {
    "collapsed": false
   },
   "outputs": [],
   "source": [
    "import os\n",
    "from trytond.config import CONFIG\n",
    "from trytond.pool import Pool\n",
    "from trytond.transaction import Transaction\n",
    "\n",
    "CONFIG.update_etc(os.environ.get('TRYTOND_CONFIG'))\n",
    "CONFIG.set_timezone()  # remove after 3.0"
   ]
  },
  {
   "cell_type": "code",
   "execution_count": 18,
   "metadata": {
    "collapsed": false
   },
   "outputs": [],
   "source": [
    "DATABASE_NAME = 'demo'  # OVERWRITE AS NEEDED\n",
    "\n",
    "Pool(DATABASE_NAME).init()"
   ]
  },
  {
   "cell_type": "code",
   "execution_count": 19,
   "metadata": {
    "collapsed": false
   },
   "outputs": [],
   "source": [
    "transaction = Transaction().start(DATABASE_NAME, 0)"
   ]
  },
  {
   "cell_type": "code",
   "execution_count": 20,
   "metadata": {
    "collapsed": false
   },
   "outputs": [],
   "source": [
    "Party = Pool().get('party.party')\n",
    "parties = Party.search([('name', '=', 'John Smith')])\n",
    "john = parties[0]\n",
    "john.name = 'John Locke'\n",
    "john.save()"
   ]
  },
  {
   "cell_type": "code",
   "execution_count": 21,
   "metadata": {
    "collapsed": false
   },
   "outputs": [],
   "source": [
    "Transaction().cursor.commit()  # only if needed\n",
    "Transaction().stop()"
   ]
  },
  {
   "cell_type": "code",
   "execution_count": null,
   "metadata": {
    "collapsed": true
   },
   "outputs": [],
   "source": []
  }
 ],
 "metadata": {
  "kernelspec": {
   "display_name": "Python 2",
   "language": "python",
   "name": "python2"
  },
  "language_info": {
   "codemirror_mode": {
    "name": "ipython",
    "version": 2
   },
   "file_extension": ".py",
   "mimetype": "text/x-python",
   "name": "python",
   "nbconvert_exporter": "python",
   "pygments_lexer": "ipython2",
   "version": "2.7.6"
  }
 },
 "nbformat": 4,
 "nbformat_minor": 0
}
