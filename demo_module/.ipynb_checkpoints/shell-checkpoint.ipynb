{
 "cells": [
  {
   "cell_type": "code",
   "execution_count": 1,
   "metadata": {
    "collapsed": false
   },
   "outputs": [],
   "source": [
    "import os\n",
    "from trytond.config import CONFIG\n",
    "from trytond.pool import Pool\n",
    "from trytond.transaction import Transaction\n",
    "\n",
    "CONFIG.update_etc(os.environ.get('TRYTOND_CONFIG'))\n",
    "CONFIG.set_timezone()  # remove after 3.0"
   ]
  },
  {
   "cell_type": "code",
   "execution_count": 2,
   "metadata": {
    "collapsed": false
   },
   "outputs": [
    {
     "name": "stderr",
     "output_type": "stream",
     "text": [
      "WARNING:party:Unable to import vatnumber. VAT number validation disabled.\n"
     ]
    }
   ],
   "source": [
    "DATABASE_NAME = 'demo'  # OVERWRITE AS NEEDED\n",
    "\n",
    "Pool(DATABASE_NAME).init()"
   ]
  },
  {
   "cell_type": "code",
   "execution_count": 3,
   "metadata": {
    "collapsed": false
   },
   "outputs": [],
   "source": [
    "transaction_context_manager = Transaction().start(DATABASE_NAME, 0)"
   ]
  },
  {
   "cell_type": "code",
   "execution_count": 9,
   "metadata": {
    "collapsed": false
   },
   "outputs": [
    {
     "name": "stdout",
     "output_type": "stream",
     "text": [
      "[Pool().get('party.party')(1)]\n"
     ]
    }
   ],
   "source": [
    "Party = Pool().get('party.party')\n",
    "parties = Party.search([('name', '=', 'John smith')])\n",
    "john = parties[0]\n",
    "john.name "
   ]
  },
  {
   "cell_type": "code",
   "execution_count": 7,
   "metadata": {
    "collapsed": false
   },
   "outputs": [],
   "source": [
    "#transaction_context_manager.cursor.commit()  # only if needed\n",
    "Transaction().stop()"
   ]
  }
 ],
 "metadata": {
  "kernelspec": {
   "display_name": "Python 2",
   "language": "python",
   "name": "python2"
  },
  "language_info": {
   "codemirror_mode": {
    "name": "ipython",
    "version": 2
   },
   "file_extension": ".py",
   "mimetype": "text/x-python",
   "name": "python",
   "nbconvert_exporter": "python",
   "pygments_lexer": "ipython2",
   "version": "2.7.6"
  }
 },
 "nbformat": 4,
 "nbformat_minor": 0
}
